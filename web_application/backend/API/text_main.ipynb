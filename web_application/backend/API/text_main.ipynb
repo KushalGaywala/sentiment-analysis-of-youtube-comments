{
 "cells": [
  {
   "cell_type": "code",
   "execution_count": 25,
   "metadata": {},
   "outputs": [
    {
     "ename": "ModuleNotFoundError",
     "evalue": "No module named 'web_application'",
     "output_type": "error",
     "traceback": [
      "\u001b[1;31m---------------------------------------------------------------------------\u001b[0m",
      "\u001b[1;31mModuleNotFoundError\u001b[0m                       Traceback (most recent call last)",
      "Cell \u001b[1;32mIn[25], line 4\u001b[0m\n\u001b[0;32m      2\u001b[0m \u001b[39mimport\u001b[39;00m \u001b[39msys\u001b[39;00m\n\u001b[0;32m      3\u001b[0m sys\u001b[39m.\u001b[39mpath\u001b[39m.\u001b[39minsert(\u001b[39m1\u001b[39m, \u001b[39m\"\u001b[39m\u001b[39m.\u001b[39m\u001b[39m\"\u001b[39m) \u001b[39m# inserting path to import the module\u001b[39;00m\n\u001b[1;32m----> 4\u001b[0m \u001b[39mfrom\u001b[39;00m \u001b[39mweb_application\u001b[39;00m\u001b[39m.\u001b[39;00m\u001b[39mbackend\u001b[39;00m\u001b[39m.\u001b[39;00m\u001b[39mAPI\u001b[39;00m\u001b[39m.\u001b[39;00m\u001b[39myoutube_api\u001b[39;00m \u001b[39mimport\u001b[39;00m Youtube_API\n\u001b[0;32m      7\u001b[0m youtube_api \u001b[39m=\u001b[39m Youtube_API()\n\u001b[0;32m      8\u001b[0m video_comments \u001b[39m=\u001b[39m youtube_api\u001b[39m.\u001b[39mget_comments_from(\u001b[39m\"\u001b[39m\u001b[39mKC0DlJza3dk\u001b[39m\u001b[39m\"\u001b[39m, \u001b[39mFalse\u001b[39;00m)\n",
      "\u001b[1;31mModuleNotFoundError\u001b[0m: No module named 'web_application'"
     ]
    }
   ],
   "source": [
    "from fastapi import FastAPI;\n",
    "import sys\n",
    "sys.path.insert(1, \".\") # inserting path to import the module\n",
    "from web_application.backend.API.youtube_api import Youtube_API\n",
    "\n",
    "\n",
    "youtube_api = Youtube_API()\n",
    "video_comments = youtube_api.get_comments_from(\"KC0DlJza3dk\", False)\n",
    "\n",
    "print(video_comments)"
   ]
  }
 ],
 "metadata": {
  "kernelspec": {
   "display_name": ".venv",
   "language": "python",
   "name": "python3"
  },
  "language_info": {
   "codemirror_mode": {
    "name": "ipython",
    "version": 3
   },
   "file_extension": ".py",
   "mimetype": "text/x-python",
   "name": "python",
   "nbconvert_exporter": "python",
   "pygments_lexer": "ipython3",
   "version": "3.9.0"
  },
  "orig_nbformat": 4,
  "vscode": {
   "interpreter": {
    "hash": "a5222297d408ac4fa6fa1a551ffce5cd9197db2ff158a1bd5d144fdbd30b2b1e"
   }
  }
 },
 "nbformat": 4,
 "nbformat_minor": 2
}
